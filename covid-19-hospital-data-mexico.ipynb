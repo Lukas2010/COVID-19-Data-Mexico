{
 "cells": [
  {
   "cell_type": "code",
   "execution_count": 1,
   "id": "8c723557",
   "metadata": {
    "_cell_guid": "b1076dfc-b9ad-4769-8c92-a6c4dae69d19",
    "_uuid": "8f2839f25d086af736a60e9eeb907d3b93b6e0e5",
    "execution": {
     "iopub.execute_input": "2025-06-13T07:58:42.379895Z",
     "iopub.status.busy": "2025-06-13T07:58:42.379602Z",
     "iopub.status.idle": "2025-06-13T07:58:44.755202Z",
     "shell.execute_reply": "2025-06-13T07:58:44.754077Z"
    },
    "papermill": {
     "duration": 2.385793,
     "end_time": "2025-06-13T07:58:44.756813",
     "exception": false,
     "start_time": "2025-06-13T07:58:42.371020",
     "status": "completed"
    },
    "tags": []
   },
   "outputs": [
    {
     "name": "stdout",
     "output_type": "stream",
     "text": [
      "/kaggle/input/covid19-dataset/Covid Data.csv\n"
     ]
    }
   ],
   "source": [
    "# This Python 3 environment comes with many helpful analytics libraries installed\n",
    "# It is defined by the kaggle/python Docker image: https://github.com/kaggle/docker-python\n",
    "# For example, here's several helpful packages to load\n",
    "\n",
    "import numpy as np # linear algebra\n",
    "import pandas as pd # data processing, CSV file I/O (e.g. pd.read_csv)\n",
    "\n",
    "# Input data files are available in the read-only \"../input/\" directory\n",
    "# For example, running this (by clicking run or pressing Shift+Enter) will list all files under the input directory\n",
    "\n",
    "import os\n",
    "for dirname, _, filenames in os.walk('/kaggle/input'):\n",
    "    for filename in filenames:\n",
    "        print(os.path.join(dirname, filename))\n",
    "\n",
    "# You can write up to 20GB to the current directory (/kaggle/working/) that gets preserved as output when you create a version using \"Save & Run All\" \n",
    "# You can also write temporary files to /kaggle/temp/, but they won't be saved outside of the current session"
   ]
  },
  {
   "cell_type": "code",
   "execution_count": 2,
   "id": "de4009ec",
   "metadata": {
    "execution": {
     "iopub.execute_input": "2025-06-13T07:58:44.771023Z",
     "iopub.status.busy": "2025-06-13T07:58:44.770577Z",
     "iopub.status.idle": "2025-06-13T07:58:48.124662Z",
     "shell.execute_reply": "2025-06-13T07:58:48.123319Z"
    },
    "papermill": {
     "duration": 3.363964,
     "end_time": "2025-06-13T07:58:48.127209",
     "exception": false,
     "start_time": "2025-06-13T07:58:44.763245",
     "status": "completed"
    },
    "tags": []
   },
   "outputs": [],
   "source": [
    "import seaborn as sns\n",
    "import matplotlib.pyplot as plt\n",
    "from sklearn.model_selection import train_test_split\n",
    "from sklearn.ensemble import HistGradientBoostingClassifier\n",
    "from sklearn.metrics import f1_score\n",
    "from sklearn.metrics import confusion_matrix"
   ]
  },
  {
   "cell_type": "markdown",
   "id": "fa5df242",
   "metadata": {
    "papermill": {
     "duration": 0.005875,
     "end_time": "2025-06-13T07:58:48.139548",
     "exception": false,
     "start_time": "2025-06-13T07:58:48.133673",
     "status": "completed"
    },
    "tags": []
   },
   "source": [
    "The dataset column description has been provided and i copied it for convenience purposes and removed some spelling errors\n",
    "\n",
    "Source: https://www.kaggle.com/datasets/meirnizri/covid19-dataset/data\n",
    "\n",
    "sex: 1 for female and 2 for male.\n",
    "age: of the patient.\n",
    "classification: covid test findings. Values 1-3 mean that the patient was diagnosed with covid in different\n",
    "degrees. 4 or higher means that the patient is not a carrier of covid or that the test is inconclusive.\n",
    "\n",
    "patient type: type of care the patient received in the unit. 1 for returned home and 2 for hospitalization.\n",
    "\n",
    "pneumonia: whether the patient already have air sacs inflammation or not.\n",
    "\n",
    "pregnancy: whether the patient is pregnant or not.\n",
    "\n",
    "diabetes: whether the patient has diabetes or not.\n",
    "\n",
    "copd: Indicates whether the patient has Chronic obstructive pulmonary disease or not.\n",
    "\n",
    "asthma: whether the patient has asthma or not.\n",
    "\n",
    "inmsupr: whether the patient is immunosuppressed or not.\n",
    "\n",
    "hypertension: whether the patient has hypertension or not.\n",
    "\n",
    "cardiovascular: whether the patient has heart or blood vessels related disease.\n",
    "\n",
    "renal chronic: whether the patient has chronic renal disease or not.\n",
    "\n",
    "other disease: whether the patient has other disease or not.\n",
    "\n",
    "obesity: whether the patient is obese or not.\n",
    "\n",
    "tobacco: whether the patient is a tobacco user.\n",
    "\n",
    "usmr: Indicates whether the patient treated medical units of the first, second or third level.\n",
    "\n",
    "medical unit: type of institution of the National Health System that provided the care.\n",
    "\n",
    "intubed: whether the patient was connected to the ventilator.\n",
    "\n",
    "icu: Indicates whether the patient had been admitted to an Intensive Care Unit.\n",
    "\n",
    "date died: If the patient died indicate the date of death, and 9999-99-99 otherwise."
   ]
  },
  {
   "cell_type": "markdown",
   "id": "9b056c0b",
   "metadata": {
    "papermill": {
     "duration": 0.007784,
     "end_time": "2025-06-13T07:58:48.154399",
     "exception": false,
     "start_time": "2025-06-13T07:58:48.146615",
     "status": "completed"
    },
    "tags": []
   },
   "source": [
    "# Data Inspection and Cleaning\n",
    "\n",
    "Import the data from the local repository and inspect its structure"
   ]
  },
  {
   "cell_type": "code",
   "execution_count": 3,
   "id": "54cb2b6a",
   "metadata": {
    "execution": {
     "iopub.execute_input": "2025-06-13T07:58:48.170792Z",
     "iopub.status.busy": "2025-06-13T07:58:48.169801Z",
     "iopub.status.idle": "2025-06-13T07:58:51.440731Z",
     "shell.execute_reply": "2025-06-13T07:58:51.437655Z"
    },
    "papermill": {
     "duration": 3.28314,
     "end_time": "2025-06-13T07:58:51.443963",
     "exception": false,
     "start_time": "2025-06-13T07:58:48.160823",
     "status": "completed"
    },
    "tags": []
   },
   "outputs": [
    {
     "name": "stdout",
     "output_type": "stream",
     "text": [
      "   USMER  MEDICAL_UNIT  SEX  PATIENT_TYPE   DATE_DIED  INTUBED  PNEUMONIA  \\\n",
      "0      2             1    1             1  03/05/2020       97          1   \n",
      "1      2             1    2             1  03/06/2020       97          1   \n",
      "2      2             1    2             2  09/06/2020        1          2   \n",
      "3      2             1    1             1  12/06/2020       97          2   \n",
      "4      2             1    2             1  21/06/2020       97          2   \n",
      "\n",
      "   AGE  PREGNANT  DIABETES  ...  ASTHMA  INMSUPR  HIPERTENSION  OTHER_DISEASE  \\\n",
      "0   65         2         2  ...       2        2             1              2   \n",
      "1   72        97         2  ...       2        2             1              2   \n",
      "2   55        97         1  ...       2        2             2              2   \n",
      "3   53         2         2  ...       2        2             2              2   \n",
      "4   68        97         1  ...       2        2             1              2   \n",
      "\n",
      "   CARDIOVASCULAR  OBESITY  RENAL_CHRONIC  TOBACCO  CLASIFFICATION_FINAL  ICU  \n",
      "0               2        2              2        2                     3   97  \n",
      "1               2        1              1        2                     5   97  \n",
      "2               2        2              2        2                     3    2  \n",
      "3               2        2              2        2                     7   97  \n",
      "4               2        2              2        2                     3   97  \n",
      "\n",
      "[5 rows x 21 columns]\n",
      "Index(['USMER', 'MEDICAL_UNIT', 'SEX', 'PATIENT_TYPE', 'DATE_DIED', 'INTUBED',\n",
      "       'PNEUMONIA', 'AGE', 'PREGNANT', 'DIABETES', 'COPD', 'ASTHMA', 'INMSUPR',\n",
      "       'HIPERTENSION', 'OTHER_DISEASE', 'CARDIOVASCULAR', 'OBESITY',\n",
      "       'RENAL_CHRONIC', 'TOBACCO', 'CLASIFFICATION_FINAL', 'ICU'],\n",
      "      dtype='object')\n",
      "<class 'pandas.core.frame.DataFrame'>\n",
      "RangeIndex: 1048575 entries, 0 to 1048574\n",
      "Data columns (total 21 columns):\n",
      " #   Column                Non-Null Count    Dtype \n",
      "---  ------                --------------    ----- \n",
      " 0   USMER                 1048575 non-null  int64 \n",
      " 1   MEDICAL_UNIT          1048575 non-null  int64 \n",
      " 2   SEX                   1048575 non-null  int64 \n",
      " 3   PATIENT_TYPE          1048575 non-null  int64 \n",
      " 4   DATE_DIED             1048575 non-null  object\n",
      " 5   INTUBED               1048575 non-null  int64 \n",
      " 6   PNEUMONIA             1048575 non-null  int64 \n",
      " 7   AGE                   1048575 non-null  int64 \n",
      " 8   PREGNANT              1048575 non-null  int64 \n",
      " 9   DIABETES              1048575 non-null  int64 \n",
      " 10  COPD                  1048575 non-null  int64 \n",
      " 11  ASTHMA                1048575 non-null  int64 \n",
      " 12  INMSUPR               1048575 non-null  int64 \n",
      " 13  HIPERTENSION          1048575 non-null  int64 \n",
      " 14  OTHER_DISEASE         1048575 non-null  int64 \n",
      " 15  CARDIOVASCULAR        1048575 non-null  int64 \n",
      " 16  OBESITY               1048575 non-null  int64 \n",
      " 17  RENAL_CHRONIC         1048575 non-null  int64 \n",
      " 18  TOBACCO               1048575 non-null  int64 \n",
      " 19  CLASIFFICATION_FINAL  1048575 non-null  int64 \n",
      " 20  ICU                   1048575 non-null  int64 \n",
      "dtypes: int64(20), object(1)\n",
      "memory usage: 168.0+ MB\n"
     ]
    }
   ],
   "source": [
    "covid_data = pd.read_csv(\"/kaggle/input/covid19-dataset/Covid Data.csv\")\n",
    "\n",
    "# Inspect the first elements\n",
    "print(covid_data.head())\n",
    "\n",
    "# List the column names\n",
    "print(covid_data.columns)\n",
    "\n",
    "# Get some basic information on the data\n",
    "covid_data.info()"
   ]
  },
  {
   "cell_type": "markdown",
   "id": "6e9df211",
   "metadata": {
    "papermill": {
     "duration": 0.00733,
     "end_time": "2025-06-13T07:58:51.467084",
     "exception": false,
     "start_time": "2025-06-13T07:58:51.459754",
     "status": "completed"
    },
    "tags": []
   },
   "source": [
    "There seem to be some spelling errors in the name of the columns. I changed those in order to provide more consistency with the list of the column names provided by the author"
   ]
  },
  {
   "cell_type": "code",
   "execution_count": 4,
   "id": "f2730aea",
   "metadata": {
    "execution": {
     "iopub.execute_input": "2025-06-13T07:58:51.484003Z",
     "iopub.status.busy": "2025-06-13T07:58:51.482171Z",
     "iopub.status.idle": "2025-06-13T07:58:51.569100Z",
     "shell.execute_reply": "2025-06-13T07:58:51.568063Z"
    },
    "papermill": {
     "duration": 0.096108,
     "end_time": "2025-06-13T07:58:51.570655",
     "exception": false,
     "start_time": "2025-06-13T07:58:51.474547",
     "status": "completed"
    },
    "tags": []
   },
   "outputs": [
    {
     "data": {
      "text/plain": [
       "Index(['USMR', 'MEDICAL_UNIT', 'SEX', 'PATIENT_TYPE', 'DATE_DIED', 'INTUBED',\n",
       "       'PNEUMONIA', 'AGE', 'PREGNANT', 'DIABETES', 'COPD', 'ASTHMA', 'INMSUPR',\n",
       "       'HYPERTENSION', 'OTHER_DISEASE', 'CARDIOVASCULAR', 'OBESITY',\n",
       "       'RENAL_CHRONIC', 'TOBACCO', 'CLASIFFICATION_FINAL', 'ICU'],\n",
       "      dtype='object')"
      ]
     },
     "execution_count": 4,
     "metadata": {},
     "output_type": "execute_result"
    }
   ],
   "source": [
    "covid_data = covid_data.rename(columns = {\"USMER\" : \"USMR\",\"HIPERTENSION\": \"HYPERTENSION\" })\n",
    "\n",
    "covid_data.columns"
   ]
  },
  {
   "cell_type": "markdown",
   "id": "2e0e0f3b",
   "metadata": {
    "papermill": {
     "duration": 0.007111,
     "end_time": "2025-06-13T07:58:51.584299",
     "exception": false,
     "start_time": "2025-06-13T07:58:51.577188",
     "status": "completed"
    },
    "tags": []
   },
   "source": [
    "Next steps\n",
    "\n",
    "1) Missing values are coded as numeric, i change those to NaN\n",
    "2) check for missing values in main outcome variable date_died\n",
    "3) change date of death to binary format (1: has died, 2: alive)\n",
    "4) change classification_final to binary (1: has covid, 2: does not have covid)"
   ]
  },
  {
   "cell_type": "code",
   "execution_count": 5,
   "id": "d0ec567f",
   "metadata": {
    "execution": {
     "iopub.execute_input": "2025-06-13T07:58:51.599062Z",
     "iopub.status.busy": "2025-06-13T07:58:51.598722Z",
     "iopub.status.idle": "2025-06-13T07:58:52.558849Z",
     "shell.execute_reply": "2025-06-13T07:58:52.557587Z"
    },
    "papermill": {
     "duration": 0.970087,
     "end_time": "2025-06-13T07:58:52.560723",
     "exception": false,
     "start_time": "2025-06-13T07:58:51.590636",
     "status": "completed"
    },
    "tags": []
   },
   "outputs": [
    {
     "name": "stdout",
     "output_type": "stream",
     "text": [
      "Sum of NA values in the datei_died column is:  0\n"
     ]
    }
   ],
   "source": [
    "# 1. replace missing values\n",
    "covid_data = covid_data.replace(97, np.NaN)\n",
    "covid_data = covid_data.replace(98, np.NaN)\n",
    "covid_data = covid_data.replace(99, np.NaN)\n",
    "\n",
    "# 2. check for missing values in date_died\n",
    "\n",
    "print(\"Sum of NA values in the datei_died column is: \", covid_data['DATE_DIED'].isnull().sum())\n",
    "\n",
    "# 3. change data of death to binary\n",
    "\n",
    "covid_data.loc[covid_data.DATE_DIED != \"9999-99-99\" ,'DATE_DIED'] = 1\n",
    "covid_data.loc[covid_data.DATE_DIED == \"9999-99-99\" ,'DATE_DIED'] = 2\n",
    "\n",
    "# 4. change classfication_final to binary\n",
    "\n",
    "covid_data.loc[covid_data.CLASIFFICATION_FINAL <= 3, 'CLASIFFICATION_FINAL'] = 1\n",
    "covid_data.loc[covid_data.CLASIFFICATION_FINAL > 3, 'CLASIFFICATION_FINAL'] = 2\n",
    "\n"
   ]
  },
  {
   "cell_type": "code",
   "execution_count": 6,
   "id": "f94b0399",
   "metadata": {
    "execution": {
     "iopub.execute_input": "2025-06-13T07:58:52.575667Z",
     "iopub.status.busy": "2025-06-13T07:58:52.575332Z",
     "iopub.status.idle": "2025-06-13T07:58:52.736460Z",
     "shell.execute_reply": "2025-06-13T07:58:52.735411Z"
    },
    "papermill": {
     "duration": 0.170855,
     "end_time": "2025-06-13T07:58:52.738683",
     "exception": false,
     "start_time": "2025-06-13T07:58:52.567828",
     "status": "completed"
    },
    "tags": []
   },
   "outputs": [
    {
     "name": "stdout",
     "output_type": "stream",
     "text": [
      "   USMR  MEDICAL_UNIT  SEX  PATIENT_TYPE DATE_DIED  INTUBED  PNEUMONIA   AGE  \\\n",
      "0     2             1    1             1         1      NaN        1.0  65.0   \n",
      "1     2             1    2             1         1      NaN        1.0  72.0   \n",
      "2     2             1    2             2         1      1.0        2.0  55.0   \n",
      "3     2             1    1             1         1      NaN        2.0  53.0   \n",
      "4     2             1    2             1         1      NaN        2.0  68.0   \n",
      "\n",
      "   PREGNANT  DIABETES  ...  ASTHMA  INMSUPR  HYPERTENSION  OTHER_DISEASE  \\\n",
      "0       2.0       2.0  ...     2.0      2.0           1.0            2.0   \n",
      "1       NaN       2.0  ...     2.0      2.0           1.0            2.0   \n",
      "2       NaN       1.0  ...     2.0      2.0           2.0            2.0   \n",
      "3       2.0       2.0  ...     2.0      2.0           2.0            2.0   \n",
      "4       NaN       1.0  ...     2.0      2.0           1.0            2.0   \n",
      "\n",
      "   CARDIOVASCULAR  OBESITY  RENAL_CHRONIC  TOBACCO  CLASIFFICATION_FINAL  ICU  \n",
      "0             2.0      2.0            2.0      2.0                     1  NaN  \n",
      "1             2.0      1.0            1.0      2.0                     2  NaN  \n",
      "2             2.0      2.0            2.0      2.0                     1  2.0  \n",
      "3             2.0      2.0            2.0      2.0                     2  NaN  \n",
      "4             2.0      2.0            2.0      2.0                     1  NaN  \n",
      "\n",
      "[5 rows x 21 columns]\n",
      "<class 'pandas.core.frame.DataFrame'>\n",
      "RangeIndex: 1048575 entries, 0 to 1048574\n",
      "Data columns (total 21 columns):\n",
      " #   Column                Non-Null Count    Dtype  \n",
      "---  ------                --------------    -----  \n",
      " 0   USMR                  1048575 non-null  int64  \n",
      " 1   MEDICAL_UNIT          1048575 non-null  int64  \n",
      " 2   SEX                   1048575 non-null  int64  \n",
      " 3   PATIENT_TYPE          1048575 non-null  int64  \n",
      " 4   DATE_DIED             1048575 non-null  object \n",
      " 5   INTUBED               192706 non-null   float64\n",
      " 6   PNEUMONIA             1032572 non-null  float64\n",
      " 7   AGE                   1048230 non-null  float64\n",
      " 8   PREGNANT              521310 non-null   float64\n",
      " 9   DIABETES              1045237 non-null  float64\n",
      " 10  COPD                  1045572 non-null  float64\n",
      " 11  ASTHMA                1045596 non-null  float64\n",
      " 12  INMSUPR               1045171 non-null  float64\n",
      " 13  HYPERTENSION          1045471 non-null  float64\n",
      " 14  OTHER_DISEASE         1043530 non-null  float64\n",
      " 15  CARDIOVASCULAR        1045499 non-null  float64\n",
      " 16  OBESITY               1045543 non-null  float64\n",
      " 17  RENAL_CHRONIC         1045569 non-null  float64\n",
      " 18  TOBACCO               1045355 non-null  float64\n",
      " 19  CLASIFFICATION_FINAL  1048575 non-null  int64  \n",
      " 20  ICU                   192543 non-null   float64\n",
      "dtypes: float64(15), int64(5), object(1)\n",
      "memory usage: 168.0+ MB\n",
      "None\n"
     ]
    },
    {
     "name": "stderr",
     "output_type": "stream",
     "text": [
      "/usr/local/lib/python3.11/dist-packages/pandas/io/formats/format.py:1458: RuntimeWarning: invalid value encountered in greater\n",
      "  has_large_values = (abs_vals > 1e6).any()\n",
      "/usr/local/lib/python3.11/dist-packages/pandas/io/formats/format.py:1459: RuntimeWarning: invalid value encountered in less\n",
      "  has_small_values = ((abs_vals < 10 ** (-self.digits)) & (abs_vals > 0)).any()\n",
      "/usr/local/lib/python3.11/dist-packages/pandas/io/formats/format.py:1459: RuntimeWarning: invalid value encountered in greater\n",
      "  has_small_values = ((abs_vals < 10 ** (-self.digits)) & (abs_vals > 0)).any()\n"
     ]
    }
   ],
   "source": [
    "print(covid_data.head())\n",
    "\n",
    "print(covid_data.info())"
   ]
  },
  {
   "cell_type": "markdown",
   "id": "a5e705ff",
   "metadata": {
    "papermill": {
     "duration": 0.00608,
     "end_time": "2025-06-13T07:58:52.751277",
     "exception": false,
     "start_time": "2025-06-13T07:58:52.745197",
     "status": "completed"
    },
    "tags": []
   },
   "source": [
    "Some column types were changed to object in the process. I chose to convert them back to int.\n"
   ]
  },
  {
   "cell_type": "code",
   "execution_count": 7,
   "id": "8278e3f8",
   "metadata": {
    "execution": {
     "iopub.execute_input": "2025-06-13T07:58:52.765231Z",
     "iopub.status.busy": "2025-06-13T07:58:52.764819Z",
     "iopub.status.idle": "2025-06-13T07:58:53.305695Z",
     "shell.execute_reply": "2025-06-13T07:58:53.304299Z"
    },
    "papermill": {
     "duration": 0.550847,
     "end_time": "2025-06-13T07:58:53.308363",
     "exception": false,
     "start_time": "2025-06-13T07:58:52.757516",
     "status": "completed"
    },
    "tags": []
   },
   "outputs": [
    {
     "name": "stdout",
     "output_type": "stream",
     "text": [
      "<class 'pandas.core.frame.DataFrame'>\n",
      "RangeIndex: 1048575 entries, 0 to 1048574\n",
      "Data columns (total 21 columns):\n",
      " #   Column                Non-Null Count    Dtype  \n",
      "---  ------                --------------    -----  \n",
      " 0   USMR                  1048575 non-null  int64  \n",
      " 1   MEDICAL_UNIT          1048575 non-null  int64  \n",
      " 2   SEX                   1048575 non-null  int64  \n",
      " 3   PATIENT_TYPE          1048575 non-null  int64  \n",
      " 4   DECEASED              1048575 non-null  float64\n",
      " 5   INTUBED               192706 non-null   float64\n",
      " 6   PNEUMONIA             1032572 non-null  float64\n",
      " 7   AGE                   1048230 non-null  float64\n",
      " 8   PREGNANT              521310 non-null   float64\n",
      " 9   DIABETES              1045237 non-null  float64\n",
      " 10  COPD                  1045572 non-null  float64\n",
      " 11  ASTHMA                1045596 non-null  float64\n",
      " 12  INMSUPR               1045171 non-null  float64\n",
      " 13  HYPERTENSION          1045471 non-null  float64\n",
      " 14  OTHER_DISEASE         1043530 non-null  float64\n",
      " 15  CARDIOVASCULAR        1045499 non-null  float64\n",
      " 16  OBESITY               1045543 non-null  float64\n",
      " 17  RENAL_CHRONIC         1045569 non-null  float64\n",
      " 18  TOBACCO               1045355 non-null  float64\n",
      " 19  CLASIFFICATION_FINAL  1048575 non-null  int64  \n",
      " 20  ICU                   192543 non-null   float64\n",
      "dtypes: float64(16), int64(5)\n",
      "memory usage: 168.0 MB\n",
      "None\n"
     ]
    }
   ],
   "source": [
    "# convert the date_died column to float\n",
    "covid_data.DATE_DIED = covid_data.DATE_DIED.apply(lambda x: float(x))\n",
    "# change name of the date_died column to represent the meaning in a better way\n",
    "covid_data = covid_data.rename(columns = {\"DATE_DIED\": \"DECEASED\"})\n",
    "# check the resulting data\n",
    "print(covid_data.info())"
   ]
  },
  {
   "cell_type": "markdown",
   "id": "3d089df2",
   "metadata": {
    "papermill": {
     "duration": 0.007168,
     "end_time": "2025-06-13T07:58:53.323374",
     "exception": false,
     "start_time": "2025-06-13T07:58:53.316206",
     "status": "completed"
    },
    "tags": []
   },
   "source": [
    "# Data visualisation \n",
    "\n",
    "First visualisation of the data for more insight\n",
    "\n",
    "1) How many people were treated as inpatient vs. outpatient\n",
    "2) How many people had covid\n",
    "3) Amount of patients deceased\n",
    "4) How many patients visited the ICU\n",
    "5) Number of NAs per column? (Especially ICU and Intubed columns)"
   ]
  },
  {
   "cell_type": "code",
   "execution_count": 8,
   "id": "800bfe49",
   "metadata": {
    "execution": {
     "iopub.execute_input": "2025-06-13T07:58:53.340333Z",
     "iopub.status.busy": "2025-06-13T07:58:53.339877Z",
     "iopub.status.idle": "2025-06-13T07:58:53.722741Z",
     "shell.execute_reply": "2025-06-13T07:58:53.721888Z"
    },
    "papermill": {
     "duration": 0.393511,
     "end_time": "2025-06-13T07:58:53.724408",
     "exception": false,
     "start_time": "2025-06-13T07:58:53.330897",
     "status": "completed"
    },
    "tags": []
   },
   "outputs": [
    {
     "data": {
      "image/png": "[encoded data removed]",
      "text/plain": [
       "<Figure size 640x480 with 1 Axes>"
      ]
     },
     "metadata": {},
     "output_type": "display_data"
    }
   ],
   "source": [
    "patient_type_count = list()\n",
    "patient_type_count.append(covid_data[covid_data.PATIENT_TYPE == 1].PATIENT_TYPE.count())\n",
    "patient_type_count.append(covid_data[covid_data.PATIENT_TYPE == 2].PATIENT_TYPE.count())\n",
    "patient_type = [\"Outpatient\", \"Inpatient\"]\n",
    "\n",
    "plt.bar(patient_type, height = patient_type_count)\n",
    "plt.title(\"Count of inpatient vs. outpatient visits\")\n",
    "plt.xlabel(\"Type of visit\")\n",
    "plt.ylabel(\"Count\")\n",
    "plt.show()"
   ]
  },
  {
   "cell_type": "code",
   "execution_count": 9,
   "id": "699617e7",
   "metadata": {
    "execution": {
     "iopub.execute_input": "2025-06-13T07:58:53.739553Z",
     "iopub.status.busy": "2025-06-13T07:58:53.739263Z",
     "iopub.status.idle": "2025-06-13T07:58:53.981068Z",
     "shell.execute_reply": "2025-06-13T07:58:53.980016Z"
    },
    "papermill": {
     "duration": 0.251338,
     "end_time": "2025-06-13T07:58:53.982856",
     "exception": false,
     "start_time": "2025-06-13T07:58:53.731518",
     "status": "completed"
    },
    "tags": []
   },
   "outputs": [
    {
     "data": {
      "image/png": "[encoded data removed]",
      "text/plain": [
       "<Figure size 640x480 with 1 Axes>"
      ]
     },
     "metadata": {},
     "output_type": "display_data"
    }
   ],
   "source": [
    "covid_count = list()\n",
    "covid_count.append(covid_data[covid_data.CLASIFFICATION_FINAL == 1].CLASIFFICATION_FINAL.count())\n",
    "covid_count.append(covid_data[covid_data.CLASIFFICATION_FINAL == 2].CLASIFFICATION_FINAL.count())\n",
    "covid_type = [\"COVID-19 positive\", \"COVID-19 negative\"]\n",
    "\n",
    "plt.bar(covid_type, height = covid_count)\n",
    "plt.title(\"Count of COVID-19 positive vs. COVID-19 negative patients\")\n",
    "plt.xlabel(\"COVID-19 Status\")\n",
    "plt.ylabel(\"Count\")\n",
    "plt.show()"
   ]
  },
  {
   "cell_type": "code",
   "execution_count": 10,
   "id": "c00e7e20",
   "metadata": {
    "execution": {
     "iopub.execute_input": "2025-06-13T07:58:53.999587Z",
     "iopub.status.busy": "2025-06-13T07:58:53.999291Z",
     "iopub.status.idle": "2025-06-13T07:58:54.233036Z",
     "shell.execute_reply": "2025-06-13T07:58:54.232049Z"
    },
    "papermill": {
     "duration": 0.244027,
     "end_time": "2025-06-13T07:58:54.234839",
     "exception": false,
     "start_time": "2025-06-13T07:58:53.990812",
     "status": "completed"
    },
    "tags": []
   },
   "outputs": [
    {
     "data": {
      "image/png": "[encoded data removed]",
      "text/plain": [
       "<Figure size 640x480 with 1 Axes>"
      ]
     },
     "metadata": {},
     "output_type": "display_data"
    },
    {
     "name": "stdout",
     "output_type": "stream",
     "text": [
      "The number of patients which died in this data is:  76942\n",
      "The number of patients which are alive:  971633\n"
     ]
    }
   ],
   "source": [
    "# Patients deceased\n",
    "deceased_count = list()\n",
    "deceased_count.append(covid_data[covid_data.DECEASED == 1].DECEASED.count())\n",
    "deceased_count.append(covid_data[covid_data.DECEASED == 2].DECEASED.count())\n",
    "deceased_type = [\"Deceased\", \"Alive\"]\n",
    "\n",
    "plt.bar(deceased_type, height = deceased_count)\n",
    "plt.title(\"Count of patients deceased vs. alive\")\n",
    "plt.xlabel(\"Patient status\")\n",
    "plt.ylabel(\"Count\")\n",
    "plt.show()\n",
    "\n",
    "print(\"The number of patients which died in this data is: \", deceased_count[0])\n",
    "print(\"The number of patients which are alive: \", deceased_count[1])"
   ]
  },
  {
   "cell_type": "code",
   "execution_count": 11,
   "id": "a8259074",
   "metadata": {
    "execution": {
     "iopub.execute_input": "2025-06-13T07:58:54.253300Z",
     "iopub.status.busy": "2025-06-13T07:58:54.252938Z",
     "iopub.status.idle": "2025-06-13T07:58:54.466605Z",
     "shell.execute_reply": "2025-06-13T07:58:54.465746Z"
    },
    "papermill": {
     "duration": 0.224222,
     "end_time": "2025-06-13T07:58:54.468393",
     "exception": false,
     "start_time": "2025-06-13T07:58:54.244171",
     "status": "completed"
    },
    "tags": []
   },
   "outputs": [
    {
     "data": {
      "image/png": "[encoded data removed]",
      "text/plain": [
       "<Figure size 640x480 with 1 Axes>"
      ]
     },
     "metadata": {},
     "output_type": "display_data"
    },
    {
     "name": "stdout",
     "output_type": "stream",
     "text": [
      "The number of patients which stayed in the ICU in this data is:  16858\n",
      "The number of patients which did not stay in ICU:  175685\n"
     ]
    }
   ],
   "source": [
    "# Amount of patients that visited the ICU\n",
    "icu_count = list()\n",
    "icu_count.append(covid_data[covid_data.ICU == 1].ICU.count())\n",
    "icu_count.append(covid_data[covid_data.ICU == 2].ICU.count())\n",
    "icu_type = [\"Visited Intensive Care\", \"Did not visit Intensive Care\"]\n",
    "\n",
    "plt.bar(icu_type, height = icu_count)\n",
    "plt.title(\"Count of patients treted on Intensive Care\")\n",
    "plt.xlabel(\"ICU Status\")\n",
    "plt.ylabel(\"Count\")\n",
    "plt.show()\n",
    "\n",
    "print(\"The number of patients which stayed in the ICU in this data is: \", icu_count[0])\n",
    "print(\"The number of patients which did not stay in ICU: \", icu_count[1])"
   ]
  },
  {
   "cell_type": "code",
   "execution_count": 12,
   "id": "33860246",
   "metadata": {
    "execution": {
     "iopub.execute_input": "2025-06-13T07:58:54.488288Z",
     "iopub.status.busy": "2025-06-13T07:58:54.487911Z",
     "iopub.status.idle": "2025-06-13T07:58:54.586349Z",
     "shell.execute_reply": "2025-06-13T07:58:54.585275Z"
    },
    "papermill": {
     "duration": 0.110447,
     "end_time": "2025-06-13T07:58:54.587858",
     "exception": false,
     "start_time": "2025-06-13T07:58:54.477411",
     "status": "completed"
    },
    "tags": []
   },
   "outputs": [
    {
     "name": "stdout",
     "output_type": "stream",
     "text": [
      "Count of NA Values in column USMR is:  0\n",
      "Count of NA Values in column MEDICAL_UNIT is:  0\n",
      "Count of NA Values in column SEX is:  0\n",
      "Count of NA Values in column PATIENT_TYPE is:  0\n",
      "Count of NA Values in column DECEASED is:  0\n",
      "Count of NA Values in column INTUBED is:  855869\n",
      "Count of NA Values in column PNEUMONIA is:  16003\n",
      "Count of NA Values in column AGE is:  345\n",
      "Count of NA Values in column PREGNANT is:  527265\n",
      "Count of NA Values in column DIABETES is:  3338\n",
      "Count of NA Values in column COPD is:  3003\n",
      "Count of NA Values in column ASTHMA is:  2979\n",
      "Count of NA Values in column INMSUPR is:  3404\n",
      "Count of NA Values in column HYPERTENSION is:  3104\n",
      "Count of NA Values in column OTHER_DISEASE is:  5045\n",
      "Count of NA Values in column CARDIOVASCULAR is:  3076\n",
      "Count of NA Values in column OBESITY is:  3032\n",
      "Count of NA Values in column RENAL_CHRONIC is:  3006\n",
      "Count of NA Values in column TOBACCO is:  3220\n",
      "Count of NA Values in column CLASIFFICATION_FINAL is:  0\n",
      "Count of NA Values in column ICU is:  856032\n"
     ]
    }
   ],
   "source": [
    "# Number of NAs per column\n",
    "\n",
    "for column in covid_data.columns:\n",
    "    print(\"Count of NA Values in column\", column, \"is: \", covid_data[column].isna().sum())"
   ]
  },
  {
   "cell_type": "markdown",
   "id": "5a4aaa45",
   "metadata": {
    "papermill": {
     "duration": 0.008546,
     "end_time": "2025-06-13T07:58:54.605799",
     "exception": false,
     "start_time": "2025-06-13T07:58:54.597253",
     "status": "completed"
    },
    "tags": []
   },
   "source": [
    "\n",
    "\n"
   ]
  },
  {
   "cell_type": "code",
   "execution_count": 13,
   "id": "4abe53ad",
   "metadata": {
    "execution": {
     "iopub.execute_input": "2025-06-13T07:58:54.623799Z",
     "iopub.status.busy": "2025-06-13T07:58:54.623496Z",
     "iopub.status.idle": "2025-06-13T07:58:54.757285Z",
     "shell.execute_reply": "2025-06-13T07:58:54.756015Z"
    },
    "papermill": {
     "duration": 0.145231,
     "end_time": "2025-06-13T07:58:54.759452",
     "exception": false,
     "start_time": "2025-06-13T07:58:54.614221",
     "status": "completed"
    },
    "tags": []
   },
   "outputs": [
    {
     "name": "stdout",
     "output_type": "stream",
     "text": [
      "Pregnant females overview:  PREGNANT\n",
      "2.0    513179\n",
      "1.0      8131\n",
      "NaN      3754\n",
      "Name: count, dtype: int64\n",
      "Pregnant males overview:  PREGNANT\n",
      "NaN    523511\n",
      "Name: count, dtype: int64\n"
     ]
    },
    {
     "name": "stderr",
     "output_type": "stream",
     "text": [
      "/usr/local/lib/python3.11/dist-packages/pandas/io/formats/format.py:1458: RuntimeWarning: invalid value encountered in greater\n",
      "  has_large_values = (abs_vals > 1e6).any()\n",
      "/usr/local/lib/python3.11/dist-packages/pandas/io/formats/format.py:1459: RuntimeWarning: invalid value encountered in less\n",
      "  has_small_values = ((abs_vals < 10 ** (-self.digits)) & (abs_vals > 0)).any()\n",
      "/usr/local/lib/python3.11/dist-packages/pandas/io/formats/format.py:1459: RuntimeWarning: invalid value encountered in greater\n",
      "  has_small_values = ((abs_vals < 10 ** (-self.digits)) & (abs_vals > 0)).any()\n"
     ]
    }
   ],
   "source": [
    "# Since there are many missing values in the pregnant column we inspect that further\n",
    "\n",
    "print(\"Pregnant females overview: \", covid_data[covid_data.SEX == 1].PREGNANT.value_counts(dropna=False))\n",
    "\n",
    "print(\"Pregnant males overview: \", covid_data[covid_data.SEX == 2].PREGNANT.value_counts(dropna=False))"
   ]
  },
  {
   "cell_type": "markdown",
   "id": "a9815e5b",
   "metadata": {
    "papermill": {
     "duration": 0.00918,
     "end_time": "2025-06-13T07:58:54.778377",
     "exception": false,
     "start_time": "2025-06-13T07:58:54.769197",
     "status": "completed"
    },
    "tags": []
   },
   "source": [
    "It seems that all males were assigned NaN values for pregnangcy while they couldn't have been pregnant. Therefore i replaced all male NaNs in pregnancy with 2"
   ]
  },
  {
   "cell_type": "code",
   "execution_count": 14,
   "id": "4fa18e69",
   "metadata": {
    "execution": {
     "iopub.execute_input": "2025-06-13T07:58:54.798199Z",
     "iopub.status.busy": "2025-06-13T07:58:54.797850Z",
     "iopub.status.idle": "2025-06-13T07:58:54.815082Z",
     "shell.execute_reply": "2025-06-13T07:58:54.813891Z"
    },
    "papermill": {
     "duration": 0.029483,
     "end_time": "2025-06-13T07:58:54.817052",
     "exception": false,
     "start_time": "2025-06-13T07:58:54.787569",
     "status": "completed"
    },
    "tags": []
   },
   "outputs": [],
   "source": [
    "# change males with missing values for pregnancy to 2: not pregnant\n",
    "covid_data.loc[(covid_data.SEX == 2) , \"PREGNANT\"] = 2 "
   ]
  },
  {
   "cell_type": "markdown",
   "id": "543dae0c",
   "metadata": {
    "papermill": {
     "duration": 0.009339,
     "end_time": "2025-06-13T07:58:54.835110",
     "exception": false,
     "start_time": "2025-06-13T07:58:54.825771",
     "status": "completed"
    },
    "tags": []
   },
   "source": [
    "After cleaning all categorical values should be categorical and otherwise NaN, therefore all categorical values should have a maximum of three unique values (1,2,NaN) lets control that."
   ]
  },
  {
   "cell_type": "code",
   "execution_count": 15,
   "id": "803828ef",
   "metadata": {
    "execution": {
     "iopub.execute_input": "2025-06-13T07:58:54.857563Z",
     "iopub.status.busy": "2025-06-13T07:58:54.857247Z",
     "iopub.status.idle": "2025-06-13T07:58:55.106091Z",
     "shell.execute_reply": "2025-06-13T07:58:55.105098Z"
    },
    "papermill": {
     "duration": 0.262947,
     "end_time": "2025-06-13T07:58:55.107671",
     "exception": false,
     "start_time": "2025-06-13T07:58:54.844724",
     "status": "completed"
    },
    "tags": []
   },
   "outputs": [
    {
     "name": "stdout",
     "output_type": "stream",
     "text": [
      "USMR 2\n",
      "MEDICAL_UNIT 13\n",
      "SEX 2\n",
      "PATIENT_TYPE 2\n",
      "DECEASED 2\n",
      "INTUBED 3\n",
      "PNEUMONIA 3\n",
      "AGE 119\n",
      "PREGNANT 3\n",
      "DIABETES 3\n",
      "COPD 3\n",
      "ASTHMA 3\n",
      "INMSUPR 3\n",
      "HYPERTENSION 3\n",
      "OTHER_DISEASE 3\n",
      "CARDIOVASCULAR 3\n",
      "OBESITY 3\n",
      "RENAL_CHRONIC 3\n",
      "TOBACCO 3\n",
      "CLASIFFICATION_FINAL 2\n",
      "ICU 3\n"
     ]
    }
   ],
   "source": [
    "for column in covid_data.columns:\n",
    "\n",
    "    print(column, len(covid_data[column].unique()))"
   ]
  },
  {
   "cell_type": "markdown",
   "id": "720233a5",
   "metadata": {
    "papermill": {
     "duration": 0.008923,
     "end_time": "2025-06-13T07:58:55.126220",
     "exception": false,
     "start_time": "2025-06-13T07:58:55.117297",
     "status": "completed"
    },
    "tags": []
   },
   "source": [
    "Medical unit has many unique values, lets inspect them"
   ]
  },
  {
   "cell_type": "code",
   "execution_count": 16,
   "id": "fb3d31fb",
   "metadata": {
    "execution": {
     "iopub.execute_input": "2025-06-13T07:58:55.145715Z",
     "iopub.status.busy": "2025-06-13T07:58:55.145397Z",
     "iopub.status.idle": "2025-06-13T07:58:55.160480Z",
     "shell.execute_reply": "2025-06-13T07:58:55.159642Z"
    },
    "papermill": {
     "duration": 0.026624,
     "end_time": "2025-06-13T07:58:55.162178",
     "exception": false,
     "start_time": "2025-06-13T07:58:55.135554",
     "status": "completed"
    },
    "tags": []
   },
   "outputs": [
    {
     "data": {
      "text/plain": [
       "MEDICAL_UNIT\n",
       "12    602995\n",
       "4     314405\n",
       "6      40584\n",
       "9      38116\n",
       "3      19175\n",
       "8      10399\n",
       "10      7873\n",
       "5       7244\n",
       "11      5577\n",
       "13       996\n",
       "7        891\n",
       "2        169\n",
       "1        151\n",
       "Name: count, dtype: int64"
      ]
     },
     "execution_count": 16,
     "metadata": {},
     "output_type": "execute_result"
    }
   ],
   "source": [
    "covid_data.MEDICAL_UNIT.value_counts()"
   ]
  },
  {
   "cell_type": "markdown",
   "id": "64923460",
   "metadata": {
    "papermill": {
     "duration": 0.009062,
     "end_time": "2025-06-13T07:58:55.180598",
     "exception": false,
     "start_time": "2025-06-13T07:58:55.171536",
     "status": "completed"
    },
    "tags": []
   },
   "source": [
    "The column medical unit is of type category. For further analysis it would be beneficial to convert it into dichotomous variables."
   ]
  },
  {
   "cell_type": "code",
   "execution_count": 17,
   "id": "a5733fd4",
   "metadata": {
    "execution": {
     "iopub.execute_input": "2025-06-13T07:58:55.199891Z",
     "iopub.status.busy": "2025-06-13T07:58:55.199585Z",
     "iopub.status.idle": "2025-06-13T07:58:55.382855Z",
     "shell.execute_reply": "2025-06-13T07:58:55.381751Z"
    },
    "papermill": {
     "duration": 0.195246,
     "end_time": "2025-06-13T07:58:55.384714",
     "exception": false,
     "start_time": "2025-06-13T07:58:55.189468",
     "status": "completed"
    },
    "tags": []
   },
   "outputs": [],
   "source": [
    "covid_data = pd.get_dummies(covid_data, columns = [\"MEDICAL_UNIT\"])"
   ]
  },
  {
   "cell_type": "markdown",
   "id": "788cdee4",
   "metadata": {
    "papermill": {
     "duration": 0.009319,
     "end_time": "2025-06-13T07:58:55.403714",
     "exception": false,
     "start_time": "2025-06-13T07:58:55.394395",
     "status": "completed"
    },
    "tags": []
   },
   "source": [
    "# Prepare the data for analysis"
   ]
  },
  {
   "cell_type": "markdown",
   "id": "6c92bee7",
   "metadata": {
    "papermill": {
     "duration": 0.009438,
     "end_time": "2025-06-13T07:58:55.424794",
     "exception": false,
     "start_time": "2025-06-13T07:58:55.415356",
     "status": "completed"
    },
    "tags": []
   },
   "source": [
    "1. Split labels and data\n",
    "2. create train and test dataset\n",
    "3. Inspect the data"
   ]
  },
  {
   "cell_type": "code",
   "execution_count": 18,
   "id": "65254e25",
   "metadata": {
    "execution": {
     "iopub.execute_input": "2025-06-13T07:58:55.449665Z",
     "iopub.status.busy": "2025-06-13T07:58:55.449069Z",
     "iopub.status.idle": "2025-06-13T07:58:55.595408Z",
     "shell.execute_reply": "2025-06-13T07:58:55.594393Z"
    },
    "papermill": {
     "duration": 0.160772,
     "end_time": "2025-06-13T07:58:55.597474",
     "exception": false,
     "start_time": "2025-06-13T07:58:55.436702",
     "status": "completed"
    },
    "tags": []
   },
   "outputs": [],
   "source": [
    "# Split labels and data\n",
    "X = covid_data.drop(columns = \"DECEASED\")\n",
    "y = covid_data.DECEASED"
   ]
  },
  {
   "cell_type": "code",
   "execution_count": 19,
   "id": "17781f73",
   "metadata": {
    "execution": {
     "iopub.execute_input": "2025-06-13T07:58:55.616746Z",
     "iopub.status.busy": "2025-06-13T07:58:55.616416Z",
     "iopub.status.idle": "2025-06-13T07:58:56.044275Z",
     "shell.execute_reply": "2025-06-13T07:58:56.042031Z"
    },
    "papermill": {
     "duration": 0.439557,
     "end_time": "2025-06-13T07:58:56.046081",
     "exception": false,
     "start_time": "2025-06-13T07:58:55.606524",
     "status": "completed"
    },
    "tags": []
   },
   "outputs": [],
   "source": [
    "# create train and test dataset\n",
    "X_train, X_test, y_train, y_test = train_test_split(X,y, test_size=0.33, random_state=4790)"
   ]
  },
  {
   "cell_type": "code",
   "execution_count": 20,
   "id": "ef49202f",
   "metadata": {
    "execution": {
     "iopub.execute_input": "2025-06-13T07:58:56.070018Z",
     "iopub.status.busy": "2025-06-13T07:58:56.069660Z",
     "iopub.status.idle": "2025-06-13T07:58:56.076065Z",
     "shell.execute_reply": "2025-06-13T07:58:56.074616Z"
    },
    "papermill": {
     "duration": 0.022282,
     "end_time": "2025-06-13T07:58:56.077647",
     "exception": false,
     "start_time": "2025-06-13T07:58:56.055365",
     "status": "completed"
    },
    "tags": []
   },
   "outputs": [
    {
     "name": "stdout",
     "output_type": "stream",
     "text": [
      "Shape of X_train is: (702545, 32)\n",
      "Shape of X_test is: (346030, 32)\n",
      "Shape of y_train is: (702545,)\n",
      "Shape of y_test is: (346030,)\n"
     ]
    }
   ],
   "source": [
    "# Inspect the data\n",
    "print(\"Shape of X_train is:\", X_train.shape)\n",
    "print( \"Shape of X_test is:\", X_test.shape)\n",
    "print( \"Shape of y_train is:\", y_train.shape)\n",
    "print( \"Shape of y_test is:\", y_test.shape)"
   ]
  },
  {
   "cell_type": "markdown",
   "id": "bc242215",
   "metadata": {
    "papermill": {
     "duration": 0.011053,
     "end_time": "2025-06-13T07:58:56.102060",
     "exception": false,
     "start_time": "2025-06-13T07:58:56.091007",
     "status": "completed"
    },
    "tags": []
   },
   "source": [
    "# Select significant variables ??? necessary?"
   ]
  },
  {
   "cell_type": "markdown",
   "id": "301efbb2",
   "metadata": {
    "papermill": {
     "duration": 0.013785,
     "end_time": "2025-06-13T07:58:56.219874",
     "exception": false,
     "start_time": "2025-06-13T07:58:56.206089",
     "status": "completed"
    },
    "tags": []
   },
   "source": [
    "# Build first model"
   ]
  },
  {
   "cell_type": "markdown",
   "id": "d7643ea5",
   "metadata": {
    "papermill": {
     "duration": 0.015237,
     "end_time": "2025-06-13T07:58:56.247906",
     "exception": false,
     "start_time": "2025-06-13T07:58:56.232669",
     "status": "completed"
    },
    "tags": []
   },
   "source": [
    "I chose the histgradient boosting classifier because it allows for data with NaN"
   ]
  },
  {
   "cell_type": "code",
   "execution_count": 21,
   "id": "172b068f",
   "metadata": {
    "execution": {
     "iopub.execute_input": "2025-06-13T07:58:56.272126Z",
     "iopub.status.busy": "2025-06-13T07:58:56.271783Z",
     "iopub.status.idle": "2025-06-13T07:59:07.673864Z",
     "shell.execute_reply": "2025-06-13T07:59:07.673035Z"
    },
    "papermill": {
     "duration": 11.416419,
     "end_time": "2025-06-13T07:59:07.675466",
     "exception": false,
     "start_time": "2025-06-13T07:58:56.259047",
     "status": "completed"
    },
    "tags": []
   },
   "outputs": [
    {
     "data": {
      "text/html": [
       "<style>#sk-container-id-1 {color: black;background-color: white;}#sk-container-id-1 pre{padding: 0;}#sk-container-id-1 div.sk-toggleable {background-color: white;}#sk-container-id-1 label.sk-toggleable__label {cursor: pointer;display: block;width: 100%;margin-bottom: 0;padding: 0.3em;box-sizing: border-box;text-align: center;}#sk-container-id-1 label.sk-toggleable__label-arrow:before {content: \"▸\";float: left;margin-right: 0.25em;color: #696969;}#sk-container-id-1 label.sk-toggleable__label-arrow:hover:before {color: black;}#sk-container-id-1 div.sk-estimator:hover label.sk-toggleable__label-arrow:before {color: black;}#sk-container-id-1 div.sk-toggleable__content {max-height: 0;max-width: 0;overflow: hidden;text-align: left;background-color: #f0f8ff;}#sk-container-id-1 div.sk-toggleable__content pre {margin: 0.2em;color: black;border-radius: 0.25em;background-color: #f0f8ff;}#sk-container-id-1 input.sk-toggleable__control:checked~div.sk-toggleable__content {max-height: 200px;max-width: 100%;overflow: auto;}#sk-container-id-1 input.sk-toggleable__control:checked~label.sk-toggleable__label-arrow:before {content: \"▾\";}#sk-container-id-1 div.sk-estimator input.sk-toggleable__control:checked~label.sk-toggleable__label {background-color: #d4ebff;}#sk-container-id-1 div.sk-label input.sk-toggleable__control:checked~label.sk-toggleable__label {background-color: #d4ebff;}#sk-container-id-1 input.sk-hidden--visually {border: 0;clip: rect(1px 1px 1px 1px);clip: rect(1px, 1px, 1px, 1px);height: 1px;margin: -1px;overflow: hidden;padding: 0;position: absolute;width: 1px;}#sk-container-id-1 div.sk-estimator {font-family: monospace;background-color: #f0f8ff;border: 1px dotted black;border-radius: 0.25em;box-sizing: border-box;margin-bottom: 0.5em;}#sk-container-id-1 div.sk-estimator:hover {background-color: #d4ebff;}#sk-container-id-1 div.sk-parallel-item::after {content: \"\";width: 100%;border-bottom: 1px solid gray;flex-grow: 1;}#sk-container-id-1 div.sk-label:hover label.sk-toggleable__label {background-color: #d4ebff;}#sk-container-id-1 div.sk-serial::before {content: \"\";position: absolute;border-left: 1px solid gray;box-sizing: border-box;top: 0;bottom: 0;left: 50%;z-index: 0;}#sk-container-id-1 div.sk-serial {display: flex;flex-direction: column;align-items: center;background-color: white;padding-right: 0.2em;padding-left: 0.2em;position: relative;}#sk-container-id-1 div.sk-item {position: relative;z-index: 1;}#sk-container-id-1 div.sk-parallel {display: flex;align-items: stretch;justify-content: center;background-color: white;position: relative;}#sk-container-id-1 div.sk-item::before, #sk-container-id-1 div.sk-parallel-item::before {content: \"\";position: absolute;border-left: 1px solid gray;box-sizing: border-box;top: 0;bottom: 0;left: 50%;z-index: -1;}#sk-container-id-1 div.sk-parallel-item {display: flex;flex-direction: column;z-index: 1;position: relative;background-color: white;}#sk-container-id-1 div.sk-parallel-item:first-child::after {align-self: flex-end;width: 50%;}#sk-container-id-1 div.sk-parallel-item:last-child::after {align-self: flex-start;width: 50%;}#sk-container-id-1 div.sk-parallel-item:only-child::after {width: 0;}#sk-container-id-1 div.sk-dashed-wrapped {border: 1px dashed gray;margin: 0 0.4em 0.5em 0.4em;box-sizing: border-box;padding-bottom: 0.4em;background-color: white;}#sk-container-id-1 div.sk-label label {font-family: monospace;font-weight: bold;display: inline-block;line-height: 1.2em;}#sk-container-id-1 div.sk-label-container {text-align: center;}#sk-container-id-1 div.sk-container {/* jupyter's `normalize.less` sets `[hidden] { display: none; }` but bootstrap.min.css set `[hidden] { display: none !important; }` so we also need the `!important` here to be able to override the default hidden behavior on the sphinx rendered scikit-learn.org. See: https://github.com/scikit-learn/scikit-learn/issues/21755 */display: inline-block !important;position: relative;}#sk-container-id-1 div.sk-text-repr-fallback {display: none;}</style><div id=\"sk-container-id-1\" class=\"sk-top-container\"><div class=\"sk-text-repr-fallback\"><pre>HistGradientBoostingClassifier(random_state=4790)</pre><b>In a Jupyter environment, please rerun this cell to show the HTML representation or trust the notebook. <br />On GitHub, the HTML representation is unable to render, please try loading this page with nbviewer.org.</b></div><div class=\"sk-container\" hidden><div class=\"sk-item\"><div class=\"sk-estimator sk-toggleable\"><input class=\"sk-toggleable__control sk-hidden--visually\" id=\"sk-estimator-id-1\" type=\"checkbox\" checked><label for=\"sk-estimator-id-1\" class=\"sk-toggleable__label sk-toggleable__label-arrow\">HistGradientBoostingClassifier</label><div class=\"sk-toggleable__content\"><pre>HistGradientBoostingClassifier(random_state=4790)</pre></div></div></div></div></div>"
      ],
      "text/plain": [
       "HistGradientBoostingClassifier(random_state=4790)"
      ]
     },
     "execution_count": 21,
     "metadata": {},
     "output_type": "execute_result"
    }
   ],
   "source": [
    "clf = HistGradientBoostingClassifier(max_iter = 100, random_state = 4790)\n",
    "clf.fit(X_train, y_train)\n"
   ]
  },
  {
   "cell_type": "code",
   "execution_count": 22,
   "id": "8c1e0487",
   "metadata": {
    "execution": {
     "iopub.execute_input": "2025-06-13T07:59:07.696005Z",
     "iopub.status.busy": "2025-06-13T07:59:07.695665Z",
     "iopub.status.idle": "2025-06-13T07:59:09.668558Z",
     "shell.execute_reply": "2025-06-13T07:59:09.664540Z"
    },
    "papermill": {
     "duration": 1.986116,
     "end_time": "2025-06-13T07:59:09.671443",
     "exception": false,
     "start_time": "2025-06-13T07:59:07.685327",
     "status": "completed"
    },
    "tags": []
   },
   "outputs": [
    {
     "data": {
      "text/plain": [
       "0.9511025055631015"
      ]
     },
     "execution_count": 22,
     "metadata": {},
     "output_type": "execute_result"
    }
   ],
   "source": [
    "# predict on the test data\n",
    "clf.score(X_test,y_test)"
   ]
  },
  {
   "cell_type": "code",
   "execution_count": 23,
   "id": "bfa706c1",
   "metadata": {
    "execution": {
     "iopub.execute_input": "2025-06-13T07:59:09.692812Z",
     "iopub.status.busy": "2025-06-13T07:59:09.692537Z",
     "iopub.status.idle": "2025-06-13T07:59:12.111531Z",
     "shell.execute_reply": "2025-06-13T07:59:12.110566Z"
    },
    "papermill": {
     "duration": 2.430764,
     "end_time": "2025-06-13T07:59:12.113069",
     "exception": false,
     "start_time": "2025-06-13T07:59:09.682305",
     "status": "completed"
    },
    "tags": []
   },
   "outputs": [
    {
     "data": {
      "text/plain": [
       "<Axes: >"
      ]
     },
     "execution_count": 23,
     "metadata": {},
     "output_type": "execute_result"
    },
    {
     "data": {
      "image/png": "[encoded data removed]",
      "text/plain": [
       "<Figure size 640x480 with 2 Axes>"
      ]
     },
     "metadata": {},
     "output_type": "display_data"
    }
   ],
   "source": [
    "# Confusion matrix\n",
    "y_pred = clf.predict(X_test)\n",
    "conf_matrix = confusion_matrix(y_test, y_pred)\n",
    "\n",
    "sns.heatmap(conf_matrix,annot=True, fmt= \".0f\")"
   ]
  }
 ],
 "metadata": {
  "kaggle": {
   "accelerator": "none",
   "dataSources": [
    {
     "datasetId": 2633044,
     "sourceId": 4504149,
     "sourceType": "datasetVersion"
    }
   ],
   "dockerImageVersionId": 31040,
   "isGpuEnabled": false,
   "isInternetEnabled": true,
   "language": "python",
   "sourceType": "notebook"
  },
  "kernelspec": {
   "display_name": "Python 3",
   "language": "python",
   "name": "python3"
  },
  "language_info": {
   "codemirror_mode": {
    "name": "ipython",
    "version": 3
   },
   "file_extension": ".py",
   "mimetype": "text/x-python",
   "name": "python",
   "nbconvert_exporter": "python",
   "pygments_lexer": "ipython3",
   "version": "3.11.11"
  },
  "papermill": {
   "default_parameters": {},
   "duration": 36.283724,
   "end_time": "2025-06-13T07:59:12.947781",
   "environment_variables": {},
   "exception": null,
   "input_path": "__notebook__.ipynb",
   "output_path": "__notebook__.ipynb",
   "parameters": {},
   "start_time": "2025-06-13T07:58:36.664057",
   "version": "2.6.0"
  }
 },
 "nbformat": 4,
 "nbformat_minor": 5
}
