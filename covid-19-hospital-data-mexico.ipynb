{
 "cells": [
  {
   "cell_type": "code",
   "execution_count": 1,
   "id": "04266009",
   "metadata": {
    "_cell_guid": "b1076dfc-b9ad-4769-8c92-a6c4dae69d19",
    "_uuid": "8f2839f25d086af736a60e9eeb907d3b93b6e0e5",
    "execution": {
     "iopub.execute_input": "2025-06-12T07:33:53.725036Z",
     "iopub.status.busy": "2025-06-12T07:33:53.724747Z",
     "iopub.status.idle": "2025-06-12T07:33:55.617832Z",
     "shell.execute_reply": "2025-06-12T07:33:55.616670Z"
    },
    "papermill": {
     "duration": 1.900649,
     "end_time": "2025-06-12T07:33:55.619513",
     "exception": false,
     "start_time": "2025-06-12T07:33:53.718864",
     "status": "completed"
    },
    "tags": []
   },
   "outputs": [
    {
     "name": "stdout",
     "output_type": "stream",
     "text": [
      "/kaggle/input/covid19-dataset/Covid Data.csv\n"
     ]
    }
   ],
   "source": [
    "# This Python 3 environment comes with many helpful analytics libraries installed\n",
    "# It is defined by the kaggle/python Docker image: https://github.com/kaggle/docker-python\n",
    "# For example, here's several helpful packages to load\n",
    "\n",
    "import numpy as np # linear algebra\n",
    "import pandas as pd # data processing, CSV file I/O (e.g. pd.read_csv)\n",
    "\n",
    "# Input data files are available in the read-only \"../input/\" directory\n",
    "# For example, running this (by clicking run or pressing Shift+Enter) will list all files under the input directory\n",
    "\n",
    "import os\n",
    "for dirname, _, filenames in os.walk('/kaggle/input'):\n",
    "    for filename in filenames:\n",
    "        print(os.path.join(dirname, filename))\n",
    "\n",
    "# You can write up to 20GB to the current directory (/kaggle/working/) that gets preserved as output when you create a version using \"Save & Run All\" \n",
    "# You can also write temporary files to /kaggle/temp/, but they won't be saved outside of the current session"
   ]
  },
  {
   "cell_type": "code",
   "execution_count": 2,
   "id": "f5e04cc1",
   "metadata": {
    "execution": {
     "iopub.execute_input": "2025-06-12T07:33:55.627772Z",
     "iopub.status.busy": "2025-06-12T07:33:55.627343Z",
     "iopub.status.idle": "2025-06-12T07:33:57.496249Z",
     "shell.execute_reply": "2025-06-12T07:33:57.495462Z"
    },
    "papermill": {
     "duration": 1.874778,
     "end_time": "2025-06-12T07:33:57.497911",
     "exception": false,
     "start_time": "2025-06-12T07:33:55.623133",
     "status": "completed"
    },
    "tags": []
   },
   "outputs": [],
   "source": [
    "import seaborn as sns\n",
    "import matplotlib.pyplot as plt"
   ]
  },
  {
   "cell_type": "markdown",
   "id": "240f4380",
   "metadata": {
    "papermill": {
     "duration": 0.003039,
     "end_time": "2025-06-12T07:33:57.504704",
     "exception": false,
     "start_time": "2025-06-12T07:33:57.501665",
     "status": "completed"
    },
    "tags": []
   },
   "source": [
    "The dataset column description has been provided and i attached it for convenience purposes.\n",
    "\n",
    "sex: 1 for female and 2 for male.\n",
    "age: of the patient.\n",
    "classification: covid test findings. Values 1-3 mean that the patient was diagnosed with covid in different\n",
    "degrees. 4 or higher means that the patient is not a carrier of covid or that the test is inconclusive.\n",
    "\n",
    "patient type: type of care the patient received in the unit. 1 for returned home and 2 for hospitalization.\n",
    "\n",
    "pneumonia: whether the patient already have air sacs inflammation or not.\n",
    "\n",
    "pregnancy: whether the patient is pregnant or not.\n",
    "\n",
    "diabetes: whether the patient has diabetes or not.\n",
    "\n",
    "copd: Indicates whether the patient has Chronic obstructive pulmonary disease or not.\n",
    "\n",
    "asthma: whether the patient has asthma or not.\n",
    "\n",
    "inmsupr: whether the patient is immunosuppressed or not.\n",
    "\n",
    "hypertension: whether the patient has hypertension or not.\n",
    "\n",
    "cardiovascular: whether the patient has heart or blood vessels related disease.\n",
    "\n",
    "renal chronic: whether the patient has chronic renal disease or not.\n",
    "\n",
    "other disease: whether the patient has other disease or not.\n",
    "\n",
    "obesity: whether the patient is obese or not.\n",
    "\n",
    "tobacco: whether the patient is a tobacco user.\n",
    "\n",
    "usmr: Indicates whether the patient treated medical units of the first, second or third level.\n",
    "\n",
    "medical unit: type of institution of the National Health System that provided the care.\n",
    "\n",
    "intubed: whether the patient was connected to the ventilator.\n",
    "\n",
    "icu: Indicates whether the patient had been admitted to an Intensive Care Unit.\n",
    "\n",
    "date died: If the patient died indicate the date of death, and 9999-99-99 otherwise."
   ]
  },
  {
   "cell_type": "markdown",
   "id": "d35dea13",
   "metadata": {
    "papermill": {
     "duration": 0.002865,
     "end_time": "2025-06-12T07:33:57.510728",
     "exception": false,
     "start_time": "2025-06-12T07:33:57.507863",
     "status": "completed"
    },
    "tags": []
   },
   "source": [
    "# Data Inspection and Cleaning\n",
    "\n",
    "Import the data from the local repository and inspect its structure"
   ]
  },
  {
   "cell_type": "code",
   "execution_count": 3,
   "id": "043c555f",
   "metadata": {
    "execution": {
     "iopub.execute_input": "2025-06-12T07:33:57.518493Z",
     "iopub.status.busy": "2025-06-12T07:33:57.518046Z",
     "iopub.status.idle": "2025-06-12T07:34:00.225727Z",
     "shell.execute_reply": "2025-06-12T07:34:00.224679Z"
    },
    "papermill": {
     "duration": 2.713474,
     "end_time": "2025-06-12T07:34:00.227317",
     "exception": false,
     "start_time": "2025-06-12T07:33:57.513843",
     "status": "completed"
    },
    "tags": []
   },
   "outputs": [
    {
     "name": "stdout",
     "output_type": "stream",
     "text": [
      "   USMER  MEDICAL_UNIT  SEX  PATIENT_TYPE   DATE_DIED  INTUBED  PNEUMONIA  \\\n",
      "0      2             1    1             1  03/05/2020       97          1   \n",
      "1      2             1    2             1  03/06/2020       97          1   \n",
      "2      2             1    2             2  09/06/2020        1          2   \n",
      "3      2             1    1             1  12/06/2020       97          2   \n",
      "4      2             1    2             1  21/06/2020       97          2   \n",
      "\n",
      "   AGE  PREGNANT  DIABETES  ...  ASTHMA  INMSUPR  HIPERTENSION  OTHER_DISEASE  \\\n",
      "0   65         2         2  ...       2        2             1              2   \n",
      "1   72        97         2  ...       2        2             1              2   \n",
      "2   55        97         1  ...       2        2             2              2   \n",
      "3   53         2         2  ...       2        2             2              2   \n",
      "4   68        97         1  ...       2        2             1              2   \n",
      "\n",
      "   CARDIOVASCULAR  OBESITY  RENAL_CHRONIC  TOBACCO  CLASIFFICATION_FINAL  ICU  \n",
      "0               2        2              2        2                     3   97  \n",
      "1               2        1              1        2                     5   97  \n",
      "2               2        2              2        2                     3    2  \n",
      "3               2        2              2        2                     7   97  \n",
      "4               2        2              2        2                     3   97  \n",
      "\n",
      "[5 rows x 21 columns]\n",
      "Index(['USMER', 'MEDICAL_UNIT', 'SEX', 'PATIENT_TYPE', 'DATE_DIED', 'INTUBED',\n",
      "       'PNEUMONIA', 'AGE', 'PREGNANT', 'DIABETES', 'COPD', 'ASTHMA', 'INMSUPR',\n",
      "       'HIPERTENSION', 'OTHER_DISEASE', 'CARDIOVASCULAR', 'OBESITY',\n",
      "       'RENAL_CHRONIC', 'TOBACCO', 'CLASIFFICATION_FINAL', 'ICU'],\n",
      "      dtype='object')\n",
      "<class 'pandas.core.frame.DataFrame'>\n",
      "RangeIndex: 1048575 entries, 0 to 1048574\n",
      "Data columns (total 21 columns):\n",
      " #   Column                Non-Null Count    Dtype \n",
      "---  ------                --------------    ----- \n",
      " 0   USMER                 1048575 non-null  int64 \n",
      " 1   MEDICAL_UNIT          1048575 non-null  int64 \n",
      " 2   SEX                   1048575 non-null  int64 \n",
      " 3   PATIENT_TYPE          1048575 non-null  int64 \n",
      " 4   DATE_DIED             1048575 non-null  object\n",
      " 5   INTUBED               1048575 non-null  int64 \n",
      " 6   PNEUMONIA             1048575 non-null  int64 \n",
      " 7   AGE                   1048575 non-null  int64 \n",
      " 8   PREGNANT              1048575 non-null  int64 \n",
      " 9   DIABETES              1048575 non-null  int64 \n",
      " 10  COPD                  1048575 non-null  int64 \n",
      " 11  ASTHMA                1048575 non-null  int64 \n",
      " 12  INMSUPR               1048575 non-null  int64 \n",
      " 13  HIPERTENSION          1048575 non-null  int64 \n",
      " 14  OTHER_DISEASE         1048575 non-null  int64 \n",
      " 15  CARDIOVASCULAR        1048575 non-null  int64 \n",
      " 16  OBESITY               1048575 non-null  int64 \n",
      " 17  RENAL_CHRONIC         1048575 non-null  int64 \n",
      " 18  TOBACCO               1048575 non-null  int64 \n",
      " 19  CLASIFFICATION_FINAL  1048575 non-null  int64 \n",
      " 20  ICU                   1048575 non-null  int64 \n",
      "dtypes: int64(20), object(1)\n",
      "memory usage: 168.0+ MB\n"
     ]
    }
   ],
   "source": [
    "covid_data = pd.read_csv(\"/kaggle/input/covid19-dataset/Covid Data.csv\")\n",
    "\n",
    "# Inspect the first elements\n",
    "print(covid_data.head())\n",
    "\n",
    "# List the column names\n",
    "print(covid_data.columns)\n",
    "\n",
    "# Get some basic information on the data\n",
    "covid_data.info()"
   ]
  },
  {
   "cell_type": "markdown",
   "id": "413305a1",
   "metadata": {
    "papermill": {
     "duration": 0.003269,
     "end_time": "2025-06-12T07:34:00.234113",
     "exception": false,
     "start_time": "2025-06-12T07:34:00.230844",
     "status": "completed"
    },
    "tags": []
   },
   "source": [
    "There seem to be some spelling errors in the name of the columns. I changed those in order to provide more consistency with the list of the column names provided by the author"
   ]
  },
  {
   "cell_type": "code",
   "execution_count": 4,
   "id": "1f7b3a31",
   "metadata": {
    "execution": {
     "iopub.execute_input": "2025-06-12T07:34:00.242975Z",
     "iopub.status.busy": "2025-06-12T07:34:00.242633Z",
     "iopub.status.idle": "2025-06-12T07:34:00.327992Z",
     "shell.execute_reply": "2025-06-12T07:34:00.326901Z"
    },
    "papermill": {
     "duration": 0.091586,
     "end_time": "2025-06-12T07:34:00.329629",
     "exception": false,
     "start_time": "2025-06-12T07:34:00.238043",
     "status": "completed"
    },
    "tags": []
   },
   "outputs": [
    {
     "data": {
      "text/plain": [
       "Index(['USMR', 'MEDICAL_UNIT', 'SEX', 'PATIENT_TYPE', 'DATE_DIED', 'INTUBED',\n",
       "       'PNEUMONIA', 'AGE', 'PREGNANT', 'DIABETES', 'COPD', 'ASTHMA', 'INMSUPR',\n",
       "       'HYPERTENSION', 'OTHER_DISEASE', 'CARDIOVASCULAR', 'OBESITY',\n",
       "       'RENAL_CHRONIC', 'TOBACCO', 'CLASIFFICATION_FINAL', 'ICU'],\n",
       "      dtype='object')"
      ]
     },
     "execution_count": 4,
     "metadata": {},
     "output_type": "execute_result"
    }
   ],
   "source": [
    "covid_data = covid_data.rename(columns = {\"USMER\" : \"USMR\",\"HIPERTENSION\": \"HYPERTENSION\" })\n",
    "\n",
    "covid_data.columns"
   ]
  },
  {
   "cell_type": "markdown",
   "id": "e27e244a",
   "metadata": {
    "papermill": {
     "duration": 0.003193,
     "end_time": "2025-06-12T07:34:00.336404",
     "exception": false,
     "start_time": "2025-06-12T07:34:00.333211",
     "status": "completed"
    },
    "tags": []
   },
   "source": [
    "Next steps\n",
    "\n",
    "1) Missing values are coded as numeric, i change those to NaN\n",
    "2) check for missing values in main outcome variable date_died\n",
    "3) change date of death to binary format (1: has died, 2: alive)\n",
    "4) change classification_final to binary (1: has covid, 2: does not have covid)"
   ]
  },
  {
   "cell_type": "code",
   "execution_count": 5,
   "id": "07789d20",
   "metadata": {
    "execution": {
     "iopub.execute_input": "2025-06-12T07:34:00.344351Z",
     "iopub.status.busy": "2025-06-12T07:34:00.344066Z",
     "iopub.status.idle": "2025-06-12T07:34:00.978470Z",
     "shell.execute_reply": "2025-06-12T07:34:00.977494Z"
    },
    "papermill": {
     "duration": 0.640286,
     "end_time": "2025-06-12T07:34:00.980175",
     "exception": false,
     "start_time": "2025-06-12T07:34:00.339889",
     "status": "completed"
    },
    "tags": []
   },
   "outputs": [
    {
     "name": "stdout",
     "output_type": "stream",
     "text": [
      "Sum of NA values in the datei_died column is:  0\n"
     ]
    }
   ],
   "source": [
    "# 1. replace missing values\n",
    "covid_data = covid_data.replace(97, np.NaN)\n",
    "covid_data = covid_data.replace(99, np.NaN)\n",
    "\n",
    "# 2. check for missing values in date_died\n",
    "\n",
    "print(\"Sum of NA values in the datei_died column is: \", covid_data['DATE_DIED'].isnull().sum())\n",
    "\n",
    "# 3. change data of death to binary\n",
    "\n",
    "covid_data.loc[covid_data.DATE_DIED != \"9999-99-99\" ,'DATE_DIED'] = 1\n",
    "covid_data.loc[covid_data.DATE_DIED == \"9999-99-99\" ,'DATE_DIED'] = 2\n",
    "\n",
    "# 4. change classfication_final to binary\n",
    "\n",
    "covid_data.loc[covid_data.CLASIFFICATION_FINAL <= 3, 'CLASIFFICATION_FINAL'] = 1\n",
    "covid_data.loc[covid_data.CLASIFFICATION_FINAL > 3, 'CLASIFFICATION_FINAL'] = 2\n",
    "\n"
   ]
  },
  {
   "cell_type": "code",
   "execution_count": 6,
   "id": "3fc180f1",
   "metadata": {
    "execution": {
     "iopub.execute_input": "2025-06-12T07:34:00.988347Z",
     "iopub.status.busy": "2025-06-12T07:34:00.988093Z",
     "iopub.status.idle": "2025-06-12T07:34:01.111791Z",
     "shell.execute_reply": "2025-06-12T07:34:01.110841Z"
    },
    "papermill": {
     "duration": 0.129566,
     "end_time": "2025-06-12T07:34:01.113328",
     "exception": false,
     "start_time": "2025-06-12T07:34:00.983762",
     "status": "completed"
    },
    "tags": []
   },
   "outputs": [
    {
     "name": "stdout",
     "output_type": "stream",
     "text": [
      "   USMR  MEDICAL_UNIT  SEX  PATIENT_TYPE DATE_DIED  INTUBED  PNEUMONIA   AGE  \\\n",
      "0     2             1    1             1         1      NaN        1.0  65.0   \n",
      "1     2             1    2             1         1      NaN        1.0  72.0   \n",
      "2     2             1    2             2         1      1.0        2.0  55.0   \n",
      "3     2             1    1             1         1      NaN        2.0  53.0   \n",
      "4     2             1    2             1         1      NaN        2.0  68.0   \n",
      "\n",
      "   PREGNANT  DIABETES  ...  ASTHMA  INMSUPR  HYPERTENSION  OTHER_DISEASE  \\\n",
      "0       2.0         2  ...       2        2             1              2   \n",
      "1       NaN         2  ...       2        2             1              2   \n",
      "2       NaN         1  ...       2        2             2              2   \n",
      "3       2.0         2  ...       2        2             2              2   \n",
      "4       NaN         1  ...       2        2             1              2   \n",
      "\n",
      "   CARDIOVASCULAR  OBESITY  RENAL_CHRONIC  TOBACCO  CLASIFFICATION_FINAL  ICU  \n",
      "0               2        2              2        2                     1  NaN  \n",
      "1               2        1              1        2                     2  NaN  \n",
      "2               2        2              2        2                     1  2.0  \n",
      "3               2        2              2        2                     2  NaN  \n",
      "4               2        2              2        2                     1  NaN  \n",
      "\n",
      "[5 rows x 21 columns]\n",
      "<class 'pandas.core.frame.DataFrame'>\n",
      "RangeIndex: 1048575 entries, 0 to 1048574\n",
      "Data columns (total 21 columns):\n",
      " #   Column                Non-Null Count    Dtype  \n",
      "---  ------                --------------    -----  \n",
      " 0   USMR                  1048575 non-null  int64  \n",
      " 1   MEDICAL_UNIT          1048575 non-null  int64  \n",
      " 2   SEX                   1048575 non-null  int64  \n",
      " 3   PATIENT_TYPE          1048575 non-null  int64  \n",
      " 4   DATE_DIED             1048575 non-null  object \n",
      " 5   INTUBED               192706 non-null   float64\n",
      " 6   PNEUMONIA             1032572 non-null  float64\n",
      " 7   AGE                   1048354 non-null  float64\n",
      " 8   PREGNANT              525064 non-null   float64\n",
      " 9   DIABETES              1048575 non-null  int64  \n",
      " 10  COPD                  1048575 non-null  int64  \n",
      " 11  ASTHMA                1048575 non-null  int64  \n",
      " 12  INMSUPR               1048575 non-null  int64  \n",
      " 13  HYPERTENSION          1048575 non-null  int64  \n",
      " 14  OTHER_DISEASE         1048575 non-null  int64  \n",
      " 15  CARDIOVASCULAR        1048575 non-null  int64  \n",
      " 16  OBESITY               1048575 non-null  int64  \n",
      " 17  RENAL_CHRONIC         1048575 non-null  int64  \n",
      " 18  TOBACCO               1048575 non-null  int64  \n",
      " 19  CLASIFFICATION_FINAL  1048575 non-null  int64  \n",
      " 20  ICU                   192543 non-null   float64\n",
      "dtypes: float64(5), int64(15), object(1)\n",
      "memory usage: 168.0+ MB\n",
      "None\n"
     ]
    },
    {
     "name": "stderr",
     "output_type": "stream",
     "text": [
      "/usr/local/lib/python3.11/dist-packages/pandas/io/formats/format.py:1458: RuntimeWarning: invalid value encountered in greater\n",
      "  has_large_values = (abs_vals > 1e6).any()\n",
      "/usr/local/lib/python3.11/dist-packages/pandas/io/formats/format.py:1459: RuntimeWarning: invalid value encountered in less\n",
      "  has_small_values = ((abs_vals < 10 ** (-self.digits)) & (abs_vals > 0)).any()\n",
      "/usr/local/lib/python3.11/dist-packages/pandas/io/formats/format.py:1459: RuntimeWarning: invalid value encountered in greater\n",
      "  has_small_values = ((abs_vals < 10 ** (-self.digits)) & (abs_vals > 0)).any()\n"
     ]
    }
   ],
   "source": [
    "print(covid_data.head())\n",
    "\n",
    "print(covid_data.info())"
   ]
  },
  {
   "cell_type": "markdown",
   "id": "222f7b13",
   "metadata": {
    "papermill": {
     "duration": 0.003478,
     "end_time": "2025-06-12T07:34:01.120715",
     "exception": false,
     "start_time": "2025-06-12T07:34:01.117237",
     "status": "completed"
    },
    "tags": []
   },
   "source": [
    "Some column types were changed to object in the process. I chose to convert them back to int.\n"
   ]
  },
  {
   "cell_type": "code",
   "execution_count": 7,
   "id": "ac03254f",
   "metadata": {
    "execution": {
     "iopub.execute_input": "2025-06-12T07:34:01.129225Z",
     "iopub.status.busy": "2025-06-12T07:34:01.128951Z",
     "iopub.status.idle": "2025-06-12T07:34:01.658924Z",
     "shell.execute_reply": "2025-06-12T07:34:01.658115Z"
    },
    "papermill": {
     "duration": 0.53657,
     "end_time": "2025-06-12T07:34:01.660949",
     "exception": false,
     "start_time": "2025-06-12T07:34:01.124379",
     "status": "completed"
    },
    "tags": []
   },
   "outputs": [
    {
     "name": "stdout",
     "output_type": "stream",
     "text": [
      "<class 'pandas.core.frame.DataFrame'>\n",
      "RangeIndex: 1048575 entries, 0 to 1048574\n",
      "Data columns (total 21 columns):\n",
      " #   Column                Non-Null Count    Dtype  \n",
      "---  ------                --------------    -----  \n",
      " 0   USMR                  1048575 non-null  int64  \n",
      " 1   MEDICAL_UNIT          1048575 non-null  int64  \n",
      " 2   SEX                   1048575 non-null  int64  \n",
      " 3   PATIENT_TYPE          1048575 non-null  int64  \n",
      " 4   DECEASED              1048575 non-null  float64\n",
      " 5   INTUBED               192706 non-null   float64\n",
      " 6   PNEUMONIA             1032572 non-null  float64\n",
      " 7   AGE                   1048354 non-null  float64\n",
      " 8   PREGNANT              525064 non-null   float64\n",
      " 9   DIABETES              1048575 non-null  int64  \n",
      " 10  COPD                  1048575 non-null  int64  \n",
      " 11  ASTHMA                1048575 non-null  int64  \n",
      " 12  INMSUPR               1048575 non-null  int64  \n",
      " 13  HYPERTENSION          1048575 non-null  int64  \n",
      " 14  OTHER_DISEASE         1048575 non-null  int64  \n",
      " 15  CARDIOVASCULAR        1048575 non-null  int64  \n",
      " 16  OBESITY               1048575 non-null  int64  \n",
      " 17  RENAL_CHRONIC         1048575 non-null  int64  \n",
      " 18  TOBACCO               1048575 non-null  int64  \n",
      " 19  CLASIFFICATION_FINAL  1048575 non-null  int64  \n",
      " 20  ICU                   192543 non-null   float64\n",
      "dtypes: float64(6), int64(15)\n",
      "memory usage: 168.0 MB\n",
      "None\n"
     ]
    }
   ],
   "source": [
    "# convert the date_died column to float\n",
    "covid_data.DATE_DIED = covid_data.DATE_DIED.apply(lambda x: float(x))\n",
    "# change name of the date_died column to represent the meaning in a better way\n",
    "covid_data = covid_data.rename(columns = {\"DATE_DIED\": \"DECEASED\"})\n",
    "# check the resulting data\n",
    "print(covid_data.info())"
   ]
  },
  {
   "cell_type": "markdown",
   "id": "1b556afb",
   "metadata": {
    "papermill": {
     "duration": 0.003612,
     "end_time": "2025-06-12T07:34:01.669204",
     "exception": false,
     "start_time": "2025-06-12T07:34:01.665592",
     "status": "completed"
    },
    "tags": []
   },
   "source": [
    "# Data visualisation \n",
    "\n",
    "First visualisation of the data for more insight\n",
    "\n",
    "1) How many people were treated as inpatient vs. outpatient\n",
    "2) How many people had covid\n",
    "3) Amount of patients deceased\n",
    "4) How many patients visited the ICU"
   ]
  },
  {
   "cell_type": "code",
   "execution_count": 8,
   "id": "c205b40a",
   "metadata": {
    "execution": {
     "iopub.execute_input": "2025-06-12T07:34:01.679052Z",
     "iopub.status.busy": "2025-06-12T07:34:01.678650Z",
     "iopub.status.idle": "2025-06-12T07:34:02.099348Z",
     "shell.execute_reply": "2025-06-12T07:34:02.098237Z"
    },
    "papermill": {
     "duration": 0.427902,
     "end_time": "2025-06-12T07:34:02.101354",
     "exception": false,
     "start_time": "2025-06-12T07:34:01.673452",
     "status": "completed"
    },
    "tags": []
   },
   "outputs": [
    {
     "data": {
      "image/png": "[encoded data removed]",
      "text/plain": [
       "<Figure size 640x480 with 1 Axes>"
      ]
     },
     "metadata": {},
     "output_type": "display_data"
    }
   ],
   "source": [
    "patient_type_count = list()\n",
    "patient_type_count.append(covid_data[covid_data.PATIENT_TYPE == 1].PATIENT_TYPE.count())\n",
    "patient_type_count.append(covid_data[covid_data.PATIENT_TYPE == 2].PATIENT_TYPE.count())\n",
    "patient_type = [\"Outpatient\", \"Inpatient\"]\n",
    "\n",
    "plt.bar(patient_type, height = patient_type_count)\n",
    "plt.title(\"Count of inpatient vs. outpatient visits\")\n",
    "plt.xlabel(\"Type of visit\")\n",
    "plt.ylabel(\"Count\")\n",
    "plt.show()"
   ]
  },
  {
   "cell_type": "code",
   "execution_count": 9,
   "id": "f5fa6286",
   "metadata": {
    "execution": {
     "iopub.execute_input": "2025-06-12T07:34:02.113017Z",
     "iopub.status.busy": "2025-06-12T07:34:02.112726Z",
     "iopub.status.idle": "2025-06-12T07:34:02.356161Z",
     "shell.execute_reply": "2025-06-12T07:34:02.355269Z"
    },
    "papermill": {
     "duration": 0.250357,
     "end_time": "2025-06-12T07:34:02.357620",
     "exception": false,
     "start_time": "2025-06-12T07:34:02.107263",
     "status": "completed"
    },
    "tags": []
   },
   "outputs": [
    {
     "data": {
      "image/png": "[encoded data removed]",
      "text/plain": [
       "<Figure size 640x480 with 1 Axes>"
      ]
     },
     "metadata": {},
     "output_type": "display_data"
    }
   ],
   "source": [
    "covid_count = list()\n",
    "covid_count.append(covid_data[covid_data.CLASIFFICATION_FINAL == 1].CLASIFFICATION_FINAL.count())\n",
    "covid_count.append(covid_data[covid_data.CLASIFFICATION_FINAL == 2].CLASIFFICATION_FINAL.count())\n",
    "covid_type = [\"COVID-19 positive\", \"COVID-19 negative\"]\n",
    "\n",
    "plt.bar(covid_type, height = covid_count)\n",
    "plt.title(\"Count of COVID-19 positive vs. COVID-19 negative patients\")\n",
    "plt.xlabel(\"COVID-19 Status\")\n",
    "plt.ylabel(\"Count\")\n",
    "plt.show()"
   ]
  },
  {
   "cell_type": "code",
   "execution_count": 10,
   "id": "edc31264",
   "metadata": {
    "execution": {
     "iopub.execute_input": "2025-06-12T07:34:02.368789Z",
     "iopub.status.busy": "2025-06-12T07:34:02.368513Z",
     "iopub.status.idle": "2025-06-12T07:34:02.593563Z",
     "shell.execute_reply": "2025-06-12T07:34:02.592646Z"
    },
    "papermill": {
     "duration": 0.232404,
     "end_time": "2025-06-12T07:34:02.595117",
     "exception": false,
     "start_time": "2025-06-12T07:34:02.362713",
     "status": "completed"
    },
    "tags": []
   },
   "outputs": [
    {
     "data": {
      "image/png": "[encoded data removed]",
      "text/plain": [
       "<Figure size 640x480 with 1 Axes>"
      ]
     },
     "metadata": {},
     "output_type": "display_data"
    },
    {
     "name": "stdout",
     "output_type": "stream",
     "text": [
      "The number of patients which died in this data is:  76942\n",
      "The number of patients which are alive:  971633\n"
     ]
    }
   ],
   "source": [
    "# Patients deceased\n",
    "deceased_count = list()\n",
    "deceased_count.append(covid_data[covid_data.DECEASED == 1].DECEASED.count())\n",
    "deceased_count.append(covid_data[covid_data.DECEASED == 2].DECEASED.count())\n",
    "deceased_type = [\"Deceased\", \"Alive\"]\n",
    "\n",
    "plt.bar(deceased_type, height = deceased_count)\n",
    "plt.title(\"Count of patients deceased vs. alive\")\n",
    "plt.xlabel(\"Patient status\")\n",
    "plt.ylabel(\"Count\")\n",
    "plt.show()\n",
    "\n",
    "print(\"The number of patients which died in this data is: \", deceased_count[0])\n",
    "print(\"The number of patients which are alive: \", deceased_count[1])"
   ]
  },
  {
   "cell_type": "code",
   "execution_count": 11,
   "id": "2b577a3a",
   "metadata": {
    "execution": {
     "iopub.execute_input": "2025-06-12T07:34:02.607119Z",
     "iopub.status.busy": "2025-06-12T07:34:02.606768Z",
     "iopub.status.idle": "2025-06-12T07:34:02.780228Z",
     "shell.execute_reply": "2025-06-12T07:34:02.779178Z"
    },
    "papermill": {
     "duration": 0.182259,
     "end_time": "2025-06-12T07:34:02.782654",
     "exception": false,
     "start_time": "2025-06-12T07:34:02.600395",
     "status": "completed"
    },
    "tags": []
   },
   "outputs": [
    {
     "data": {
      "image/png": "[encoded data removed]",
      "text/plain": [
       "<Figure size 640x480 with 1 Axes>"
      ]
     },
     "metadata": {},
     "output_type": "display_data"
    },
    {
     "name": "stdout",
     "output_type": "stream",
     "text": [
      "The number of patients which stayed in the ICU in this data is:  16858\n",
      "The number of patients which did not stay in ICU:  175685\n"
     ]
    }
   ],
   "source": [
    "# Amount of patients that visited the ICU\n",
    "icu_count = list()\n",
    "icu_count.append(covid_data[covid_data.ICU == 1].ICU.count())\n",
    "icu_count.append(covid_data[covid_data.ICU == 2].ICU.count())\n",
    "icu_type = [\"Visited Intensive Care\", \"Did not visit Intensive Care\"]\n",
    "\n",
    "plt.bar(icu_type, height = icu_count)\n",
    "plt.title(\"Count of patients treted on Intensive Care\")\n",
    "plt.xlabel(\"ICU Status\")\n",
    "plt.ylabel(\"Count\")\n",
    "plt.show()\n",
    "\n",
    "print(\"The number of patients which stayed in the ICU in this data is: \", icu_count[0])\n",
    "print(\"The number of patients which did not stay in ICU: \", icu_count[1])"
   ]
  }
 ],
 "metadata": {
  "kaggle": {
   "accelerator": "none",
   "dataSources": [
    {
     "datasetId": 2633044,
     "sourceId": 4504149,
     "sourceType": "datasetVersion"
    }
   ],
   "dockerImageVersionId": 31040,
   "isGpuEnabled": false,
   "isInternetEnabled": true,
   "language": "python",
   "sourceType": "notebook"
  },
  "kernelspec": {
   "display_name": "Python 3",
   "language": "python",
   "name": "python3"
  },
  "language_info": {
   "codemirror_mode": {
    "name": "ipython",
    "version": 3
   },
   "file_extension": ".py",
   "mimetype": "text/x-python",
   "name": "python",
   "nbconvert_exporter": "python",
   "pygments_lexer": "ipython3",
   "version": "3.11.11"
  },
  "papermill": {
   "default_parameters": {},
   "duration": 14.470387,
   "end_time": "2025-06-12T07:34:03.412648",
   "environment_variables": {},
   "exception": null,
   "input_path": "__notebook__.ipynb",
   "output_path": "__notebook__.ipynb",
   "parameters": {},
   "start_time": "2025-06-12T07:33:48.942261",
   "version": "2.6.0"
  }
 },
 "nbformat": 4,
 "nbformat_minor": 5
}
